{
 "cells": [
  {
   "cell_type": "code",
   "execution_count": 20,
   "metadata": {},
   "outputs": [],
   "source": [
    "import pandas as pd\n",
    "import numpy as np\n",
    "import seaborn as sns\n",
    "import matplotlib.pyplot as plt\n"
   ]
  },
  {
   "cell_type": "code",
   "execution_count": 4,
   "metadata": {},
   "outputs": [],
   "source": [
    "# Load the Coca-Cola stock data\n",
    "stock_data = pd.read_csv('https://raw.githubusercontent.com/Tirth678/Data-Analysis-Projects/refs/heads/main/Coco%20Cola/Data/Coca-Cola_stock_info.csv')\n",
    "\n",
    "# Check for missing values\n",
    "missing_values = stock_data.isnull().sum()\n",
    "\n",
    "# Handle missing values using forward fill\n",
    "stock_data.fillna(method='ffill', inplace=True)\n",
    "\n",
    "# Remove unnecessary rows if any (assuming we want to drop rows with all NaN values)\n",
    "stock_data.dropna(how='all', inplace=True)\n",
    "\n",
    "# Display the cleaned data\n",
    "print(stock_data.head())\n"
   ]
  },
  {
   "cell_type": "code",
   "execution_count": 13,
   "metadata": {},
   "outputs": [],
   "source": [
    "# First make sure yfinance is installed:\n",
    "# !pip install yfinance\n",
    "\n",
    "import yfinance as yf\n",
    "\n",
    "# Fetch Coca-Cola stock data\n",
    "try:\n",
    "    ticker = 'KO'\n",
    "    data = yf.download(ticker, start='2015-01-01', end='2023-12-31')\n",
    "    data.reset_index(inplace=True)\n",
    "    print(data.head())\n",
    "except Exception as e:\n",
    "    print(f\"Error occurred: {e}\")\n",
    "    print(\"Please make sure yfinance is installed using: pip install yfinance\")\n"
   ]
  },
  {
   "cell_type": "code",
   "execution_count": 14,
   "metadata": {},
   "outputs": [],
   "source": [
    "# Check for missing values\n",
    "print(data.isnull().sum())\n",
    "\n",
    "# Handle missing values\n",
    "data.fillna(method='ffill', inplace=True)\n",
    "data.fillna(0, inplace=True)  # Replace remaining missing values with 0\n",
    "\n",
    "# Check data types\n",
    "print(data.dtypes)\n"
   ]
  },
  {
   "cell_type": "code",
   "execution_count": 15,
   "metadata": {},
   "outputs": [],
   "source": [
    "# Add Moving Averages\n",
    "data['MA_20'] = data['Close'].rolling(window=20).mean()\n",
    "data['MA_50'] = data['Close'].rolling(window=50).mean()\n",
    "\n",
    "# Add Daily Returns\n",
    "data['Daily_Return'] = data['Close'].pct_change()\n",
    "\n",
    "# Add Volatility\n",
    "data['Volatility'] = data['Daily_Return'].rolling(window=20).std()\n",
    "\n",
    "# Drop rows with NA due to rolling calculations\n",
    "data.dropna(inplace=True)\n"
   ]
  },
  {
   "cell_type": "code",
   "execution_count": 16,
   "metadata": {},
   "outputs": [],
   "source": [
    "print(data.describe())\n"
   ]
  },
  {
   "cell_type": "code",
   "execution_count": 17,
   "metadata": {},
   "outputs": [],
   "source": [
    "plt.figure(figsize=(12, 6))\n",
    "plt.plot(data['Date'], data['Close'], label='Close Price', color='blue')\n",
    "plt.plot(data['Date'], data['MA_20'], label='20-Day MA', linestyle='--', color='orange')\n",
    "plt.plot(data['Date'], data['MA_50'], label='50-Day MA', linestyle='--', color='green')\n",
    "plt.title('Coca-Cola Stock Prices with Moving Averages')\n",
    "plt.xlabel('Date')\n",
    "plt.ylabel('Price')\n",
    "plt.legend()\n",
    "plt.show()\n"
   ]
  },
  {
   "cell_type": "code",
   "execution_count": 18,
   "metadata": {},
   "outputs": [],
   "source": [
    "plt.figure(figsize=(10, 8))\n",
    "sns.heatmap(data.corr(), annot=True, cmap='coolwarm')\n",
    "plt.title('Correlation Heatmap')\n",
    "plt.show()\n"
   ]
  },
  {
   "cell_type": "code",
   "execution_count": 30,
   "metadata": {},
   "outputs": [],
   "source": [
    "# Ensure the 'Date' column is in datetime format\n",
    "data['Date'] = pd.to_datetime(data['Date'])\n",
    "\n",
    "# Extract the month and year\n",
    "data['YearMonth'] = data['Date'].dt.to_period('M')\n",
    "\n",
    "# Group by 'YearMonth' and calculate the total volume\n",
    "monthly_volume = data.groupby('YearMonth')['Volume'].sum().reset_index()\n",
    "\n",
    "# Convert 'YearMonth' back to a datetime format for plotting\n",
    "monthly_volume['YearMonth'] = monthly_volume['YearMonth'].dt.to_timestamp()\n"
   ]
  },
  {
   "cell_type": "code",
   "execution_count": 26,
   "metadata": {},
   "outputs": [],
   "source": [
    "plt.figure(figsize=(12, 6))\n",
    "plt.plot(data['Date'], data['Volatility'], color='red', label='Volatility')\n",
    "plt.title('Volatility Over Time')\n",
    "plt.xlabel('Date')\n",
    "plt.ylabel('Volatility')\n",
    "plt.legend()\n",
    "plt.show()\n"
   ]
  },
  {
   "cell_type": "code",
   "execution_count": 27,
   "metadata": {},
   "outputs": [],
   "source": [
    "data.to_csv('cleaned_coca_cola_stock.csv', index=False)\n"
   ]
  },
  {
   "cell_type": "code",
   "execution_count": 31,
   "metadata": {},
   "outputs": [],
   "source": [
    "plt.figure(figsize=(14, 7))\n",
    "plt.plot(monthly_volume['YearMonth'], monthly_volume['Volume'], marker='o', linestyle='-', color='blue')\n",
    "plt.title('Monthly Trading Volume for Coca-Cola Stock', fontsize=16)\n",
    "plt.xlabel('Month', fontsize=12)\n",
    "plt.ylabel('Total Trading Volume', fontsize=12)\n",
    "plt.grid(True, linestyle='--', alpha=0.6)\n",
    "plt.xticks(rotation=45)\n",
    "plt.tight_layout()\n",
    "plt.show()\n"
   ]
  },
  {
   "cell_type": "code",
   "execution_count": 32,
   "metadata": {},
   "outputs": [],
   "source": [
    "# Find the months with highest and lowest volumes\n",
    "highest_volume = monthly_volume.loc[monthly_volume['Volume'].idxmax()]\n",
    "lowest_volume = monthly_volume.loc[monthly_volume['Volume'].idxmin()]\n",
    "\n",
    "print(f\"Highest Trading Volume: {highest_volume['Volume']} in {highest_volume['YearMonth']}\")\n",
    "print(f\"Lowest Trading Volume: {lowest_volume['Volume']} in {lowest_volume['YearMonth']}\")\n"
   ]
  },
  {
   "cell_type": "code",
   "execution_count": null,
   "metadata": {},
   "outputs": [],
   "source": []
  }
 ],
 "metadata": {
  "kernelspec": {
   "display_name": "Python 3 (ipykernel)",
   "language": "python",
   "name": "python3"
  }
 },
 "nbformat": 4,
 "nbformat_minor": 2
}
